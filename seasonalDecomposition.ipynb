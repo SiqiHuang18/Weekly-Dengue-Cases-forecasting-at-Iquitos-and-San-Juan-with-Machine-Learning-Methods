{
 "cells": [
  {
   "cell_type": "code",
   "execution_count": 95,
   "metadata": {},
   "outputs": [],
   "source": [
    "import pandas as pd\n",
    "import sklearn\n",
    "import numpy\n",
    "import matplotlib.pyplot as plt\n",
    "import seaborn as sns\n",
    "from statsmodels.tsa.seasonal import seasonal_decompose\n",
    "import scipy"
   ]
  },
  {
   "cell_type": "code",
   "execution_count": 96,
   "metadata": {},
   "outputs": [],
   "source": [
    "# import the train and test datasets\n",
    "X_train = pd.read_csv('data/dengue_features_train.csv')\n",
    "y_train = pd.read_csv('data/dengue_labels_train.csv')\n",
    "X_test = pd.read_csv('data/dengue_features_test.csv')"
   ]
  },
  {
   "cell_type": "code",
   "execution_count": 97,
   "metadata": {},
   "outputs": [
    {
     "data": {
      "text/html": [
       "<div>\n",
       "<style scoped>\n",
       "    .dataframe tbody tr th:only-of-type {\n",
       "        vertical-align: middle;\n",
       "    }\n",
       "\n",
       "    .dataframe tbody tr th {\n",
       "        vertical-align: top;\n",
       "    }\n",
       "\n",
       "    .dataframe thead th {\n",
       "        text-align: right;\n",
       "    }\n",
       "</style>\n",
       "<table border=\"1\" class=\"dataframe\">\n",
       "  <thead>\n",
       "    <tr style=\"text-align: right;\">\n",
       "      <th></th>\n",
       "      <th>city</th>\n",
       "      <th>year</th>\n",
       "      <th>weekofyear</th>\n",
       "      <th>week_start_date</th>\n",
       "      <th>ndvi_ne</th>\n",
       "      <th>ndvi_nw</th>\n",
       "      <th>ndvi_se</th>\n",
       "      <th>ndvi_sw</th>\n",
       "      <th>precipitation_amt_mm</th>\n",
       "      <th>reanalysis_air_temp_k</th>\n",
       "      <th>...</th>\n",
       "      <th>reanalysis_precip_amt_kg_per_m2</th>\n",
       "      <th>reanalysis_relative_humidity_percent</th>\n",
       "      <th>reanalysis_sat_precip_amt_mm</th>\n",
       "      <th>reanalysis_specific_humidity_g_per_kg</th>\n",
       "      <th>reanalysis_tdtr_k</th>\n",
       "      <th>station_avg_temp_c</th>\n",
       "      <th>station_diur_temp_rng_c</th>\n",
       "      <th>station_max_temp_c</th>\n",
       "      <th>station_min_temp_c</th>\n",
       "      <th>station_precip_mm</th>\n",
       "    </tr>\n",
       "  </thead>\n",
       "  <tbody>\n",
       "    <tr>\n",
       "      <th>0</th>\n",
       "      <td>sj</td>\n",
       "      <td>1990</td>\n",
       "      <td>18</td>\n",
       "      <td>1990-04-30</td>\n",
       "      <td>0.122600</td>\n",
       "      <td>0.103725</td>\n",
       "      <td>0.198483</td>\n",
       "      <td>0.177617</td>\n",
       "      <td>12.42</td>\n",
       "      <td>297.572857</td>\n",
       "      <td>...</td>\n",
       "      <td>32.00</td>\n",
       "      <td>73.365714</td>\n",
       "      <td>12.42</td>\n",
       "      <td>14.012857</td>\n",
       "      <td>2.628571</td>\n",
       "      <td>25.442857</td>\n",
       "      <td>6.900000</td>\n",
       "      <td>29.4</td>\n",
       "      <td>20.0</td>\n",
       "      <td>16.0</td>\n",
       "    </tr>\n",
       "    <tr>\n",
       "      <th>1</th>\n",
       "      <td>sj</td>\n",
       "      <td>1990</td>\n",
       "      <td>19</td>\n",
       "      <td>1990-05-07</td>\n",
       "      <td>0.169900</td>\n",
       "      <td>0.142175</td>\n",
       "      <td>0.162357</td>\n",
       "      <td>0.155486</td>\n",
       "      <td>22.82</td>\n",
       "      <td>298.211429</td>\n",
       "      <td>...</td>\n",
       "      <td>17.94</td>\n",
       "      <td>77.368571</td>\n",
       "      <td>22.82</td>\n",
       "      <td>15.372857</td>\n",
       "      <td>2.371429</td>\n",
       "      <td>26.714286</td>\n",
       "      <td>6.371429</td>\n",
       "      <td>31.7</td>\n",
       "      <td>22.2</td>\n",
       "      <td>8.6</td>\n",
       "    </tr>\n",
       "    <tr>\n",
       "      <th>2</th>\n",
       "      <td>sj</td>\n",
       "      <td>1990</td>\n",
       "      <td>20</td>\n",
       "      <td>1990-05-14</td>\n",
       "      <td>0.032250</td>\n",
       "      <td>0.172967</td>\n",
       "      <td>0.157200</td>\n",
       "      <td>0.170843</td>\n",
       "      <td>34.54</td>\n",
       "      <td>298.781429</td>\n",
       "      <td>...</td>\n",
       "      <td>26.10</td>\n",
       "      <td>82.052857</td>\n",
       "      <td>34.54</td>\n",
       "      <td>16.848571</td>\n",
       "      <td>2.300000</td>\n",
       "      <td>26.714286</td>\n",
       "      <td>6.485714</td>\n",
       "      <td>32.2</td>\n",
       "      <td>22.8</td>\n",
       "      <td>41.4</td>\n",
       "    </tr>\n",
       "    <tr>\n",
       "      <th>3</th>\n",
       "      <td>sj</td>\n",
       "      <td>1990</td>\n",
       "      <td>21</td>\n",
       "      <td>1990-05-21</td>\n",
       "      <td>0.128633</td>\n",
       "      <td>0.245067</td>\n",
       "      <td>0.227557</td>\n",
       "      <td>0.235886</td>\n",
       "      <td>15.36</td>\n",
       "      <td>298.987143</td>\n",
       "      <td>...</td>\n",
       "      <td>13.90</td>\n",
       "      <td>80.337143</td>\n",
       "      <td>15.36</td>\n",
       "      <td>16.672857</td>\n",
       "      <td>2.428571</td>\n",
       "      <td>27.471429</td>\n",
       "      <td>6.771429</td>\n",
       "      <td>33.3</td>\n",
       "      <td>23.3</td>\n",
       "      <td>4.0</td>\n",
       "    </tr>\n",
       "    <tr>\n",
       "      <th>4</th>\n",
       "      <td>sj</td>\n",
       "      <td>1990</td>\n",
       "      <td>22</td>\n",
       "      <td>1990-05-28</td>\n",
       "      <td>0.196200</td>\n",
       "      <td>0.262200</td>\n",
       "      <td>0.251200</td>\n",
       "      <td>0.247340</td>\n",
       "      <td>7.52</td>\n",
       "      <td>299.518571</td>\n",
       "      <td>...</td>\n",
       "      <td>12.20</td>\n",
       "      <td>80.460000</td>\n",
       "      <td>7.52</td>\n",
       "      <td>17.210000</td>\n",
       "      <td>3.014286</td>\n",
       "      <td>28.942857</td>\n",
       "      <td>9.371429</td>\n",
       "      <td>35.0</td>\n",
       "      <td>23.9</td>\n",
       "      <td>5.8</td>\n",
       "    </tr>\n",
       "  </tbody>\n",
       "</table>\n",
       "<p>5 rows × 24 columns</p>\n",
       "</div>"
      ],
      "text/plain": [
       "  city  year  weekofyear week_start_date   ndvi_ne   ndvi_nw   ndvi_se  \\\n",
       "0   sj  1990          18      1990-04-30  0.122600  0.103725  0.198483   \n",
       "1   sj  1990          19      1990-05-07  0.169900  0.142175  0.162357   \n",
       "2   sj  1990          20      1990-05-14  0.032250  0.172967  0.157200   \n",
       "3   sj  1990          21      1990-05-21  0.128633  0.245067  0.227557   \n",
       "4   sj  1990          22      1990-05-28  0.196200  0.262200  0.251200   \n",
       "\n",
       "    ndvi_sw  precipitation_amt_mm  reanalysis_air_temp_k  ...  \\\n",
       "0  0.177617                 12.42             297.572857  ...   \n",
       "1  0.155486                 22.82             298.211429  ...   \n",
       "2  0.170843                 34.54             298.781429  ...   \n",
       "3  0.235886                 15.36             298.987143  ...   \n",
       "4  0.247340                  7.52             299.518571  ...   \n",
       "\n",
       "   reanalysis_precip_amt_kg_per_m2  reanalysis_relative_humidity_percent  \\\n",
       "0                            32.00                             73.365714   \n",
       "1                            17.94                             77.368571   \n",
       "2                            26.10                             82.052857   \n",
       "3                            13.90                             80.337143   \n",
       "4                            12.20                             80.460000   \n",
       "\n",
       "   reanalysis_sat_precip_amt_mm  reanalysis_specific_humidity_g_per_kg  \\\n",
       "0                         12.42                              14.012857   \n",
       "1                         22.82                              15.372857   \n",
       "2                         34.54                              16.848571   \n",
       "3                         15.36                              16.672857   \n",
       "4                          7.52                              17.210000   \n",
       "\n",
       "   reanalysis_tdtr_k  station_avg_temp_c  station_diur_temp_rng_c  \\\n",
       "0           2.628571           25.442857                 6.900000   \n",
       "1           2.371429           26.714286                 6.371429   \n",
       "2           2.300000           26.714286                 6.485714   \n",
       "3           2.428571           27.471429                 6.771429   \n",
       "4           3.014286           28.942857                 9.371429   \n",
       "\n",
       "   station_max_temp_c  station_min_temp_c  station_precip_mm  \n",
       "0                29.4                20.0               16.0  \n",
       "1                31.7                22.2                8.6  \n",
       "2                32.2                22.8               41.4  \n",
       "3                33.3                23.3                4.0  \n",
       "4                35.0                23.9                5.8  \n",
       "\n",
       "[5 rows x 24 columns]"
      ]
     },
     "execution_count": 97,
     "metadata": {},
     "output_type": "execute_result"
    }
   ],
   "source": [
    "X_train.head()"
   ]
  },
  {
   "cell_type": "code",
   "execution_count": 98,
   "metadata": {},
   "outputs": [
    {
     "data": {
      "text/html": [
       "<div>\n",
       "<style scoped>\n",
       "    .dataframe tbody tr th:only-of-type {\n",
       "        vertical-align: middle;\n",
       "    }\n",
       "\n",
       "    .dataframe tbody tr th {\n",
       "        vertical-align: top;\n",
       "    }\n",
       "\n",
       "    .dataframe thead th {\n",
       "        text-align: right;\n",
       "    }\n",
       "</style>\n",
       "<table border=\"1\" class=\"dataframe\">\n",
       "  <thead>\n",
       "    <tr style=\"text-align: right;\">\n",
       "      <th></th>\n",
       "      <th>city</th>\n",
       "      <th>year</th>\n",
       "      <th>weekofyear</th>\n",
       "      <th>week_start_date</th>\n",
       "      <th>ndvi_ne</th>\n",
       "      <th>ndvi_nw</th>\n",
       "      <th>ndvi_se</th>\n",
       "      <th>ndvi_sw</th>\n",
       "      <th>precipitation_amt_mm</th>\n",
       "      <th>reanalysis_air_temp_k</th>\n",
       "      <th>...</th>\n",
       "      <th>reanalysis_precip_amt_kg_per_m2</th>\n",
       "      <th>reanalysis_relative_humidity_percent</th>\n",
       "      <th>reanalysis_sat_precip_amt_mm</th>\n",
       "      <th>reanalysis_specific_humidity_g_per_kg</th>\n",
       "      <th>reanalysis_tdtr_k</th>\n",
       "      <th>station_avg_temp_c</th>\n",
       "      <th>station_diur_temp_rng_c</th>\n",
       "      <th>station_max_temp_c</th>\n",
       "      <th>station_min_temp_c</th>\n",
       "      <th>station_precip_mm</th>\n",
       "    </tr>\n",
       "  </thead>\n",
       "  <tbody>\n",
       "    <tr>\n",
       "      <th>0</th>\n",
       "      <td>sj</td>\n",
       "      <td>2008</td>\n",
       "      <td>18</td>\n",
       "      <td>2008-04-29</td>\n",
       "      <td>-0.0189</td>\n",
       "      <td>-0.018900</td>\n",
       "      <td>0.102729</td>\n",
       "      <td>0.091200</td>\n",
       "      <td>78.60</td>\n",
       "      <td>298.492857</td>\n",
       "      <td>...</td>\n",
       "      <td>25.37</td>\n",
       "      <td>78.781429</td>\n",
       "      <td>78.60</td>\n",
       "      <td>15.918571</td>\n",
       "      <td>3.128571</td>\n",
       "      <td>26.528571</td>\n",
       "      <td>7.057143</td>\n",
       "      <td>33.3</td>\n",
       "      <td>21.7</td>\n",
       "      <td>75.2</td>\n",
       "    </tr>\n",
       "    <tr>\n",
       "      <th>1</th>\n",
       "      <td>sj</td>\n",
       "      <td>2008</td>\n",
       "      <td>19</td>\n",
       "      <td>2008-05-06</td>\n",
       "      <td>-0.0180</td>\n",
       "      <td>-0.012400</td>\n",
       "      <td>0.082043</td>\n",
       "      <td>0.072314</td>\n",
       "      <td>12.56</td>\n",
       "      <td>298.475714</td>\n",
       "      <td>...</td>\n",
       "      <td>21.83</td>\n",
       "      <td>78.230000</td>\n",
       "      <td>12.56</td>\n",
       "      <td>15.791429</td>\n",
       "      <td>2.571429</td>\n",
       "      <td>26.071429</td>\n",
       "      <td>5.557143</td>\n",
       "      <td>30.0</td>\n",
       "      <td>22.2</td>\n",
       "      <td>34.3</td>\n",
       "    </tr>\n",
       "    <tr>\n",
       "      <th>2</th>\n",
       "      <td>sj</td>\n",
       "      <td>2008</td>\n",
       "      <td>20</td>\n",
       "      <td>2008-05-13</td>\n",
       "      <td>-0.0015</td>\n",
       "      <td>NaN</td>\n",
       "      <td>0.151083</td>\n",
       "      <td>0.091529</td>\n",
       "      <td>3.66</td>\n",
       "      <td>299.455714</td>\n",
       "      <td>...</td>\n",
       "      <td>4.12</td>\n",
       "      <td>78.270000</td>\n",
       "      <td>3.66</td>\n",
       "      <td>16.674286</td>\n",
       "      <td>4.428571</td>\n",
       "      <td>27.928571</td>\n",
       "      <td>7.785714</td>\n",
       "      <td>32.8</td>\n",
       "      <td>22.8</td>\n",
       "      <td>3.0</td>\n",
       "    </tr>\n",
       "    <tr>\n",
       "      <th>3</th>\n",
       "      <td>sj</td>\n",
       "      <td>2008</td>\n",
       "      <td>21</td>\n",
       "      <td>2008-05-20</td>\n",
       "      <td>NaN</td>\n",
       "      <td>-0.019867</td>\n",
       "      <td>0.124329</td>\n",
       "      <td>0.125686</td>\n",
       "      <td>0.00</td>\n",
       "      <td>299.690000</td>\n",
       "      <td>...</td>\n",
       "      <td>2.20</td>\n",
       "      <td>73.015714</td>\n",
       "      <td>0.00</td>\n",
       "      <td>15.775714</td>\n",
       "      <td>4.342857</td>\n",
       "      <td>28.057143</td>\n",
       "      <td>6.271429</td>\n",
       "      <td>33.3</td>\n",
       "      <td>24.4</td>\n",
       "      <td>0.3</td>\n",
       "    </tr>\n",
       "    <tr>\n",
       "      <th>4</th>\n",
       "      <td>sj</td>\n",
       "      <td>2008</td>\n",
       "      <td>22</td>\n",
       "      <td>2008-05-27</td>\n",
       "      <td>0.0568</td>\n",
       "      <td>0.039833</td>\n",
       "      <td>0.062267</td>\n",
       "      <td>0.075914</td>\n",
       "      <td>0.76</td>\n",
       "      <td>299.780000</td>\n",
       "      <td>...</td>\n",
       "      <td>4.36</td>\n",
       "      <td>74.084286</td>\n",
       "      <td>0.76</td>\n",
       "      <td>16.137143</td>\n",
       "      <td>3.542857</td>\n",
       "      <td>27.614286</td>\n",
       "      <td>7.085714</td>\n",
       "      <td>33.3</td>\n",
       "      <td>23.3</td>\n",
       "      <td>84.1</td>\n",
       "    </tr>\n",
       "  </tbody>\n",
       "</table>\n",
       "<p>5 rows × 24 columns</p>\n",
       "</div>"
      ],
      "text/plain": [
       "  city  year  weekofyear week_start_date  ndvi_ne   ndvi_nw   ndvi_se  \\\n",
       "0   sj  2008          18      2008-04-29  -0.0189 -0.018900  0.102729   \n",
       "1   sj  2008          19      2008-05-06  -0.0180 -0.012400  0.082043   \n",
       "2   sj  2008          20      2008-05-13  -0.0015       NaN  0.151083   \n",
       "3   sj  2008          21      2008-05-20      NaN -0.019867  0.124329   \n",
       "4   sj  2008          22      2008-05-27   0.0568  0.039833  0.062267   \n",
       "\n",
       "    ndvi_sw  precipitation_amt_mm  reanalysis_air_temp_k  ...  \\\n",
       "0  0.091200                 78.60             298.492857  ...   \n",
       "1  0.072314                 12.56             298.475714  ...   \n",
       "2  0.091529                  3.66             299.455714  ...   \n",
       "3  0.125686                  0.00             299.690000  ...   \n",
       "4  0.075914                  0.76             299.780000  ...   \n",
       "\n",
       "   reanalysis_precip_amt_kg_per_m2  reanalysis_relative_humidity_percent  \\\n",
       "0                            25.37                             78.781429   \n",
       "1                            21.83                             78.230000   \n",
       "2                             4.12                             78.270000   \n",
       "3                             2.20                             73.015714   \n",
       "4                             4.36                             74.084286   \n",
       "\n",
       "   reanalysis_sat_precip_amt_mm  reanalysis_specific_humidity_g_per_kg  \\\n",
       "0                         78.60                              15.918571   \n",
       "1                         12.56                              15.791429   \n",
       "2                          3.66                              16.674286   \n",
       "3                          0.00                              15.775714   \n",
       "4                          0.76                              16.137143   \n",
       "\n",
       "   reanalysis_tdtr_k  station_avg_temp_c  station_diur_temp_rng_c  \\\n",
       "0           3.128571           26.528571                 7.057143   \n",
       "1           2.571429           26.071429                 5.557143   \n",
       "2           4.428571           27.928571                 7.785714   \n",
       "3           4.342857           28.057143                 6.271429   \n",
       "4           3.542857           27.614286                 7.085714   \n",
       "\n",
       "   station_max_temp_c  station_min_temp_c  station_precip_mm  \n",
       "0                33.3                21.7               75.2  \n",
       "1                30.0                22.2               34.3  \n",
       "2                32.8                22.8                3.0  \n",
       "3                33.3                24.4                0.3  \n",
       "4                33.3                23.3               84.1  \n",
       "\n",
       "[5 rows x 24 columns]"
      ]
     },
     "execution_count": 98,
     "metadata": {},
     "output_type": "execute_result"
    }
   ],
   "source": [
    "X_test.head()"
   ]
  },
  {
   "cell_type": "code",
   "execution_count": 99,
   "metadata": {},
   "outputs": [
    {
     "data": {
      "text/html": [
       "<div>\n",
       "<style scoped>\n",
       "    .dataframe tbody tr th:only-of-type {\n",
       "        vertical-align: middle;\n",
       "    }\n",
       "\n",
       "    .dataframe tbody tr th {\n",
       "        vertical-align: top;\n",
       "    }\n",
       "\n",
       "    .dataframe thead th {\n",
       "        text-align: right;\n",
       "    }\n",
       "</style>\n",
       "<table border=\"1\" class=\"dataframe\">\n",
       "  <thead>\n",
       "    <tr style=\"text-align: right;\">\n",
       "      <th></th>\n",
       "      <th>city</th>\n",
       "      <th>year</th>\n",
       "      <th>weekofyear</th>\n",
       "      <th>total_cases</th>\n",
       "    </tr>\n",
       "  </thead>\n",
       "  <tbody>\n",
       "    <tr>\n",
       "      <th>0</th>\n",
       "      <td>sj</td>\n",
       "      <td>1990</td>\n",
       "      <td>18</td>\n",
       "      <td>4</td>\n",
       "    </tr>\n",
       "    <tr>\n",
       "      <th>1</th>\n",
       "      <td>sj</td>\n",
       "      <td>1990</td>\n",
       "      <td>19</td>\n",
       "      <td>5</td>\n",
       "    </tr>\n",
       "    <tr>\n",
       "      <th>2</th>\n",
       "      <td>sj</td>\n",
       "      <td>1990</td>\n",
       "      <td>20</td>\n",
       "      <td>4</td>\n",
       "    </tr>\n",
       "    <tr>\n",
       "      <th>3</th>\n",
       "      <td>sj</td>\n",
       "      <td>1990</td>\n",
       "      <td>21</td>\n",
       "      <td>3</td>\n",
       "    </tr>\n",
       "    <tr>\n",
       "      <th>4</th>\n",
       "      <td>sj</td>\n",
       "      <td>1990</td>\n",
       "      <td>22</td>\n",
       "      <td>6</td>\n",
       "    </tr>\n",
       "  </tbody>\n",
       "</table>\n",
       "</div>"
      ],
      "text/plain": [
       "  city  year  weekofyear  total_cases\n",
       "0   sj  1990          18            4\n",
       "1   sj  1990          19            5\n",
       "2   sj  1990          20            4\n",
       "3   sj  1990          21            3\n",
       "4   sj  1990          22            6"
      ]
     },
     "execution_count": 99,
     "metadata": {},
     "output_type": "execute_result"
    }
   ],
   "source": [
    "y_train.head()"
   ]
  },
  {
   "cell_type": "code",
   "execution_count": 100,
   "metadata": {},
   "outputs": [
    {
     "name": "stdout",
     "output_type": "stream",
     "text": [
      "<class 'pandas.core.frame.DataFrame'>\n",
      "RangeIndex: 1456 entries, 0 to 1455\n",
      "Data columns (total 24 columns):\n",
      "city                                     1456 non-null object\n",
      "year                                     1456 non-null int64\n",
      "weekofyear                               1456 non-null int64\n",
      "week_start_date                          1456 non-null object\n",
      "ndvi_ne                                  1262 non-null float64\n",
      "ndvi_nw                                  1404 non-null float64\n",
      "ndvi_se                                  1434 non-null float64\n",
      "ndvi_sw                                  1434 non-null float64\n",
      "precipitation_amt_mm                     1443 non-null float64\n",
      "reanalysis_air_temp_k                    1446 non-null float64\n",
      "reanalysis_avg_temp_k                    1446 non-null float64\n",
      "reanalysis_dew_point_temp_k              1446 non-null float64\n",
      "reanalysis_max_air_temp_k                1446 non-null float64\n",
      "reanalysis_min_air_temp_k                1446 non-null float64\n",
      "reanalysis_precip_amt_kg_per_m2          1446 non-null float64\n",
      "reanalysis_relative_humidity_percent     1446 non-null float64\n",
      "reanalysis_sat_precip_amt_mm             1443 non-null float64\n",
      "reanalysis_specific_humidity_g_per_kg    1446 non-null float64\n",
      "reanalysis_tdtr_k                        1446 non-null float64\n",
      "station_avg_temp_c                       1413 non-null float64\n",
      "station_diur_temp_rng_c                  1413 non-null float64\n",
      "station_max_temp_c                       1436 non-null float64\n",
      "station_min_temp_c                       1442 non-null float64\n",
      "station_precip_mm                        1434 non-null float64\n",
      "dtypes: float64(20), int64(2), object(2)\n",
      "memory usage: 273.1+ KB\n"
     ]
    }
   ],
   "source": [
    "X_train.info()"
   ]
  },
  {
   "cell_type": "code",
   "execution_count": 101,
   "metadata": {},
   "outputs": [],
   "source": [
    "# add 'week_start_date' to the y_train dataset from the X_train dataset\n",
    "y_train = y_train.merge(X_train[['city','year','weekofyear','week_start_date']], left_on = ['city','year','weekofyear'], right_on = ['city','year','weekofyear'])"
   ]
  },
  {
   "cell_type": "code",
   "execution_count": 102,
   "metadata": {},
   "outputs": [],
   "source": [
    "# split the dataset by the cities\n",
    "\n",
    "X_train_sj = X_train.loc[X_train['city']=='sj']\n",
    "X_train_iq = X_train.loc[X_train['city']=='iq']\n",
    "y_train_sj = y_train.loc[y_train['city']=='sj']\n",
    "y_train_iq = y_train.loc[y_train['city']=='iq']"
   ]
  },
  {
   "cell_type": "code",
   "execution_count": 103,
   "metadata": {},
   "outputs": [
    {
     "name": "stderr",
     "output_type": "stream",
     "text": [
      "C:\\Users\\hsg82\\AppData\\Local\\Continuum\\anaconda3\\envs\\data_basic\\lib\\site-packages\\ipykernel_launcher.py:2: SettingWithCopyWarning: \n",
      "A value is trying to be set on a copy of a slice from a DataFrame.\n",
      "Try using .loc[row_indexer,col_indexer] = value instead\n",
      "\n",
      "See the caveats in the documentation: http://pandas.pydata.org/pandas-docs/stable/user_guide/indexing.html#returning-a-view-versus-a-copy\n",
      "  \n"
     ]
    }
   ],
   "source": [
    "# change format of the 'week_start_date' column to datetime64[ns]\n",
    "y_train_sj['week_start_date'] =pd.to_datetime(y_train_sj['week_start_date'])"
   ]
  },
  {
   "cell_type": "code",
   "execution_count": 104,
   "metadata": {},
   "outputs": [
    {
     "name": "stdout",
     "output_type": "stream",
     "text": [
      "<class 'pandas.core.frame.DataFrame'>\n",
      "Int64Index: 936 entries, 0 to 935\n",
      "Data columns (total 5 columns):\n",
      "city               936 non-null object\n",
      "year               936 non-null int64\n",
      "weekofyear         936 non-null int64\n",
      "total_cases        936 non-null int64\n",
      "week_start_date    936 non-null datetime64[ns]\n",
      "dtypes: datetime64[ns](1), int64(3), object(1)\n",
      "memory usage: 43.9+ KB\n"
     ]
    }
   ],
   "source": [
    "y_train_sj.info()"
   ]
  },
  {
   "cell_type": "code",
   "execution_count": 105,
   "metadata": {},
   "outputs": [],
   "source": [
    "y_train_season_sj = y_train_sj[['week_start_date','total_cases']].set_index('week_start_date')"
   ]
  },
  {
   "cell_type": "code",
   "execution_count": 106,
   "metadata": {},
   "outputs": [],
   "source": [
    "y_train_season_iq = y_train_iq[['week_start_date','total_cases']].set_index('week_start_date')"
   ]
  },
  {
   "cell_type": "code",
   "execution_count": 107,
   "metadata": {},
   "outputs": [
    {
     "data": {
      "text/plain": [
       "<Figure size 1080x720 with 0 Axes>"
      ]
     },
     "metadata": {},
     "output_type": "display_data"
    },
    {
     "data": {
      "image/png": "[encoded data removed]",
      "text/plain": [
       "<Figure size 432x288 with 4 Axes>"
      ]
     },
     "metadata": {
      "needs_background": "light"
     },
     "output_type": "display_data"
    }
   ],
   "source": [
    "res = seasonal_decompose(y_train_season_sj,model='additive',freq=60)\n",
    "plt.figure(figsize=(15,10))\n",
    "res.plot()\n",
    "plt.show()"
   ]
  },
  {
   "cell_type": "code",
   "execution_count": 108,
   "metadata": {},
   "outputs": [
    {
     "data": {
      "image/png": "[encoded data removed]",
      "text/plain": [
       "<Figure size 432x288 with 4 Axes>"
      ]
     },
     "metadata": {
      "needs_background": "light"
     },
     "output_type": "display_data"
    }
   ],
   "source": [
    "res = seasonal_decompose(y_train_season_iq,model='additive',freq=60)\n",
    "res.plot()\n",
    "plt.show()"
   ]
  },
  {
   "cell_type": "code",
   "execution_count": 109,
   "metadata": {},
   "outputs": [],
   "source": [
    "import statsmodels.formula.api as smf"
   ]
  },
  {
   "cell_type": "code",
   "execution_count": 110,
   "metadata": {},
   "outputs": [
    {
     "name": "stderr",
     "output_type": "stream",
     "text": [
      "C:\\Users\\hsg82\\AppData\\Local\\Continuum\\anaconda3\\envs\\data_basic\\lib\\site-packages\\ipykernel_launcher.py:1: SettingWithCopyWarning: \n",
      "A value is trying to be set on a copy of a slice from a DataFrame.\n",
      "Try using .loc[row_indexer,col_indexer] = value instead\n",
      "\n",
      "See the caveats in the documentation: http://pandas.pydata.org/pandas-docs/stable/user_guide/indexing.html#returning-a-view-versus-a-copy\n",
      "  \"\"\"Entry point for launching an IPython kernel.\n"
     ]
    }
   ],
   "source": [
    "X_train_sj['week_start_date'] =pd.to_datetime(X_train_sj['week_start_date'])\n",
    "X_train_sj = X_train_sj.set_index('week_start_date')\n",
    "X_train_sj = X_train_sj.drop(['city','year','weekofyear'], axis=1)"
   ]
  },
  {
   "cell_type": "code",
   "execution_count": 112,
   "metadata": {},
   "outputs": [],
   "source": [
    "X_train_sj = X_train_sj.interpolate()\n",
    "X_train_sj = X_train_sj.merge(y_train_season_sj,left_index=True, right_index=True)"
   ]
  },
  {
   "cell_type": "code",
   "execution_count": 119,
   "metadata": {},
   "outputs": [],
   "source": [
    "lm = smf.ols(formula='total_cases~'+'+'.join(X_train_sj.columns[:-1]), data = X_train_sj).fit()"
   ]
  },
  {
   "cell_type": "code",
   "execution_count": 120,
   "metadata": {},
   "outputs": [
    {
     "name": "stdout",
     "output_type": "stream",
     "text": [
      "                            OLS Regression Results                            \n",
      "==============================================================================\n",
      "Dep. Variable:            total_cases   R-squared:                       0.109\n",
      "Model:                            OLS   Adj. R-squared:                  0.091\n",
      "Method:                 Least Squares   F-statistic:                     5.900\n",
      "Date:                Fri, 27 Mar 2020   Prob (F-statistic):           3.18e-14\n",
      "Time:                        14:46:09   Log-Likelihood:                -4960.8\n",
      "No. Observations:                 936   AIC:                             9962.\n",
      "Df Residuals:                     916   BIC:                         1.006e+04\n",
      "Df Model:                          19                                         \n",
      "Covariance Type:            nonrobust                                         \n",
      "=========================================================================================================\n",
      "                                            coef    std err          t      P>|t|      [0.025      0.975]\n",
      "---------------------------------------------------------------------------------------------------------\n",
      "Intercept                              3585.4631   6862.355      0.522      0.601   -9882.300    1.71e+04\n",
      "ndvi_ne                                  61.5281     20.782      2.961      0.003      20.742     102.315\n",
      "ndvi_nw                                 -23.6069     23.544     -1.003      0.316     -69.813      22.599\n",
      "ndvi_se                                -232.7986     50.815     -4.581      0.000    -332.527    -133.070\n",
      "ndvi_sw                                 226.2646     51.533      4.391      0.000     125.129     327.400\n",
      "precipitation_amt_mm                     -0.0404      0.025     -1.632      0.103      -0.089       0.008\n",
      "reanalysis_air_temp_k                    70.2997     87.352      0.805      0.421    -101.135     241.734\n",
      "reanalysis_avg_temp_k                   -57.1980     21.682     -2.638      0.008     -99.751     -14.645\n",
      "reanalysis_dew_point_temp_k             -48.8289     81.293     -0.601      0.548    -208.371     110.713\n",
      "reanalysis_max_air_temp_k                16.6144      5.236      3.173      0.002       6.339      26.889\n",
      "reanalysis_min_air_temp_k                 4.0501      5.375      0.754      0.451      -6.498      14.598\n",
      "reanalysis_precip_amt_kg_per_m2           0.0455      0.065      0.695      0.487      -0.083       0.174\n",
      "reanalysis_relative_humidity_percent      4.9626     18.025      0.275      0.783     -30.412      40.337\n",
      "reanalysis_sat_precip_amt_mm             -0.0404      0.025     -1.632      0.103      -0.089       0.008\n",
      "reanalysis_specific_humidity_g_per_kg    27.3820     22.760      1.203      0.229     -17.285      72.049\n",
      "reanalysis_tdtr_k                       -16.0892      5.712     -2.817      0.005     -27.299      -4.879\n",
      "station_avg_temp_c                       -6.9080      5.479     -1.261      0.208     -17.661       3.845\n",
      "station_diur_temp_rng_c                   3.2117      3.431      0.936      0.350      -3.523       9.946\n",
      "station_max_temp_c                        2.3699      2.806      0.845      0.398      -3.136       7.876\n",
      "station_min_temp_c                        1.0844      3.375      0.321      0.748      -5.540       7.709\n",
      "station_precip_mm                        -0.0077      0.075     -0.103      0.918      -0.154       0.139\n",
      "==============================================================================\n",
      "Omnibus:                      807.338   Durbin-Watson:                   0.192\n",
      "Prob(Omnibus):                  0.000   Jarque-Bera (JB):            20150.461\n",
      "Skew:                           3.940   Prob(JB):                         0.00\n",
      "Kurtosis:                      24.321   Cond. No.                     4.86e+16\n",
      "==============================================================================\n",
      "\n",
      "Warnings:\n",
      "[1] Standard Errors assume that the covariance matrix of the errors is correctly specified.\n",
      "[2] The smallest eigenvalue is 1.82e-25. This might indicate that there are\n",
      "strong multicollinearity problems or that the design matrix is singular.\n"
     ]
    }
   ],
   "source": [
    "print(lm.summary())"
   ]
  },
  {
   "cell_type": "code",
   "execution_count": 121,
   "metadata": {},
   "outputs": [
    {
     "name": "stderr",
     "output_type": "stream",
     "text": [
      "C:\\Users\\hsg82\\AppData\\Local\\Continuum\\anaconda3\\envs\\data_basic\\lib\\site-packages\\ipykernel_launcher.py:1: SettingWithCopyWarning: \n",
      "A value is trying to be set on a copy of a slice from a DataFrame.\n",
      "Try using .loc[row_indexer,col_indexer] = value instead\n",
      "\n",
      "See the caveats in the documentation: http://pandas.pydata.org/pandas-docs/stable/user_guide/indexing.html#returning-a-view-versus-a-copy\n",
      "  \"\"\"Entry point for launching an IPython kernel.\n"
     ]
    }
   ],
   "source": [
    "X_train_iq['week_start_date'] =pd.to_datetime(X_train_iq['week_start_date'])\n",
    "X_train_iq = X_train_iq.set_index('week_start_date')\n",
    "X_train_iq = X_train_iq.drop(['city','year','weekofyear'], axis=1)"
   ]
  },
  {
   "cell_type": "code",
   "execution_count": 122,
   "metadata": {},
   "outputs": [],
   "source": [
    "X_train_iq = X_train_iq.interpolate()\n",
    "X_train_iq = X_train_iq.merge(y_train_season_iq,left_index=True, right_index=True)"
   ]
  },
  {
   "cell_type": "code",
   "execution_count": 123,
   "metadata": {},
   "outputs": [
    {
     "name": "stdout",
     "output_type": "stream",
     "text": [
      "                            OLS Regression Results                            \n",
      "==============================================================================\n",
      "Dep. Variable:            total_cases   R-squared:                       0.088\n",
      "Model:                            OLS   Adj. R-squared:                  0.054\n",
      "Method:                 Least Squares   F-statistic:                     2.545\n",
      "Date:                Fri, 27 Mar 2020   Prob (F-statistic):           0.000366\n",
      "Time:                        14:47:55   Log-Likelihood:                -1949.0\n",
      "No. Observations:                 520   AIC:                             3938.\n",
      "Df Residuals:                     500   BIC:                             4023.\n",
      "Df Model:                          19                                         \n",
      "Covariance Type:            nonrobust                                         \n",
      "=========================================================================================================\n",
      "                                            coef    std err          t      P>|t|      [0.025      0.975]\n",
      "---------------------------------------------------------------------------------------------------------\n",
      "Intercept                              2717.0535   1740.085      1.561      0.119    -701.726    6135.833\n",
      "ndvi_ne                                  11.2613     12.381      0.910      0.363     -13.063      35.586\n",
      "ndvi_nw                                 -10.0628     10.181     -0.988      0.323     -30.065       9.940\n",
      "ndvi_se                                 -17.9847      9.646     -1.864      0.063     -36.937       0.968\n",
      "ndvi_sw                                  14.7709     10.784      1.370      0.171      -6.416      35.958\n",
      "precipitation_amt_mm                     -0.0050      0.008     -0.621      0.535      -0.021       0.011\n",
      "reanalysis_air_temp_k                    -0.5101      5.028     -0.101      0.919     -10.388       9.368\n",
      "reanalysis_avg_temp_k                    -0.2410      2.128     -0.113      0.910      -4.422       3.940\n",
      "reanalysis_dew_point_temp_k              -8.5510      6.738     -1.269      0.205     -21.790       4.688\n",
      "reanalysis_max_air_temp_k                -0.4904      0.451     -1.087      0.278      -1.377       0.396\n",
      "reanalysis_min_air_temp_k                 0.0517      0.655      0.079      0.937      -1.235       1.338\n",
      "reanalysis_precip_amt_kg_per_m2          -0.0113      0.013     -0.896      0.370      -0.036       0.013\n",
      "reanalysis_relative_humidity_percent     -0.3797      1.078     -0.352      0.725      -2.498       1.738\n",
      "reanalysis_sat_precip_amt_mm             -0.0050      0.008     -0.621      0.535      -0.021       0.011\n",
      "reanalysis_specific_humidity_g_per_kg    11.1132      5.833      1.905      0.057      -0.347      22.573\n",
      "reanalysis_tdtr_k                        -0.2405      0.742     -0.324      0.746      -1.698       1.217\n",
      "station_avg_temp_c                       -0.2512      0.900     -0.279      0.780      -2.019       1.517\n",
      "station_diur_temp_rng_c                   0.1059      0.547      0.194      0.846      -0.969       1.180\n",
      "station_max_temp_c                        0.4023      0.589      0.683      0.495      -0.754       1.559\n",
      "station_min_temp_c                        0.7457      0.598      1.247      0.213      -0.429       1.920\n",
      "station_precip_mm                         0.0034      0.008      0.411      0.682      -0.013       0.019\n",
      "==============================================================================\n",
      "Omnibus:                      484.716   Durbin-Watson:                   0.621\n",
      "Prob(Omnibus):                  0.000   Jarque-Bera (JB):            18232.250\n",
      "Skew:                           4.012   Prob(JB):                         0.00\n",
      "Kurtosis:                      30.877   Cond. No.                     7.28e+16\n",
      "==============================================================================\n",
      "\n",
      "Warnings:\n",
      "[1] Standard Errors assume that the covariance matrix of the errors is correctly specified.\n",
      "[2] The smallest eigenvalue is 4.63e-26. This might indicate that there are\n",
      "strong multicollinearity problems or that the design matrix is singular.\n"
     ]
    }
   ],
   "source": [
    "lm = smf.ols(formula='total_cases~'+'+'.join(X_train_sj.columns[:-1]), data = X_train_iq).fit()\n",
    "print(lm.summary())"
   ]
  },
  {
   "cell_type": "code",
   "execution_count": null,
   "metadata": {},
   "outputs": [],
   "source": []
  }
 ],
 "metadata": {
  "kernelspec": {
   "display_name": "Python 3",
   "language": "python",
   "name": "python3"
  },
  "language_info": {
   "codemirror_mode": {
    "name": "ipython",
    "version": 3
   },
   "file_extension": ".py",
   "mimetype": "text/x-python",
   "name": "python",
   "nbconvert_exporter": "python",
   "pygments_lexer": "ipython3",
   "version": "3.7.6"
  },
  "toc": {
   "base_numbering": 1,
   "nav_menu": {},
   "number_sections": true,
   "sideBar": true,
   "skip_h1_title": false,
   "title_cell": "Table of Contents",
   "title_sidebar": "Contents",
   "toc_cell": false,
   "toc_position": {},
   "toc_section_display": true,
   "toc_window_display": false
  },
  "varInspector": {
   "cols": {
    "lenName": 16,
    "lenType": 16,
    "lenVar": 40
   },
   "kernels_config": {
    "python": {
     "delete_cmd_postfix": "",
     "delete_cmd_prefix": "del ",
     "library": "var_list.py",
     "varRefreshCmd": "print(var_dic_list())"
    },
    "r": {
     "delete_cmd_postfix": ") ",
     "delete_cmd_prefix": "rm(",
     "library": "var_list.r",
     "varRefreshCmd": "cat(var_dic_list()) "
    }
   },
   "types_to_exclude": [
    "module",
    "function",
    "builtin_function_or_method",
    "instance",
    "_Feature"
   ],
   "window_display": false
  }
 },
 "nbformat": 4,
 "nbformat_minor": 2
}
